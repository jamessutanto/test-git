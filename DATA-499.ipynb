{
 "cells": [
  {
   "cell_type": "code",
   "execution_count": 1,
   "metadata": {},
   "outputs": [],
   "source": [
    "import re\n",
    "\n",
    "from collections import Counter"
   ]
  },
  {
   "cell_type": "code",
   "execution_count": 29,
   "metadata": {},
   "outputs": [
    {
     "data": {
      "text/plain": [
       "('Classic ASP', '231615')"
      ]
     },
     "execution_count": 29,
     "metadata": {},
     "output_type": "execute_result"
    }
   ],
   "source": [
    "def parse_json_line(line: str):\n",
    "    groups = re.findall(\"\\\"(.*)\\\": (.*),\", line)\n",
    "    if len(groups) == 1:\n",
    "        key, value = groups[0]\n",
    "        return key, value\n",
    "    else:\n",
    "        return None, None\n",
    "\n",
    "parse_json_line('  \"Classic ASP\": 231615,')"
   ]
  },
  {
   "cell_type": "code",
   "execution_count": 30,
   "metadata": {},
   "outputs": [],
   "source": [
    "def json_file_iterator(file_path: str):\n",
    "    with open(file_path, \"r\") as file:\n",
    "        for line in file:\n",
    "            key, value = parse_json_line(line)\n",
    "            if not key:\n",
    "                continue\n",
    "            yield key, value"
   ]
  },
  {
   "cell_type": "code",
   "execution_count": 38,
   "metadata": {},
   "outputs": [],
   "source": [
    "term_count = Counter()\n",
    "for i, data in enumerate(json_file_iterator(\"raw_skill_doc_frequency.json\")):\n",
    "    job_title, count = data\n",
    "    terms = job_title.split(\" \")\n",
    "    term_count[len(terms)] += 1\n",
    "    if i > 100000:\n",
    "        break"
   ]
  },
  {
   "cell_type": "code",
   "execution_count": 39,
   "metadata": {},
   "outputs": [
    {
     "data": {
      "text/plain": [
       "[(1, 54094),\n",
       " (2, 25339),\n",
       " (3, 11021),\n",
       " (4, 4506),\n",
       " (5, 2366),\n",
       " (6, 1047),\n",
       " (7, 643),\n",
       " (8, 362),\n",
       " (9, 195),\n",
       " (10, 111),\n",
       " (11, 70),\n",
       " (12, 42),\n",
       " (13, 39),\n",
       " (14, 29),\n",
       " (16, 18),\n",
       " (15, 16),\n",
       " (20, 13),\n",
       " (18, 13),\n",
       " (17, 13),\n",
       " (22, 7),\n",
       " (25, 7),\n",
       " (19, 6),\n",
       " (24, 4),\n",
       " (27, 4),\n",
       " (43, 3),\n",
       " (36, 3),\n",
       " (31, 3),\n",
       " (38, 3),\n",
       " (28, 3),\n",
       " (29, 2),\n",
       " (54, 2),\n",
       " (35, 2),\n",
       " (21, 2),\n",
       " (26, 2),\n",
       " (23, 2),\n",
       " (47, 1),\n",
       " (49, 1),\n",
       " (46, 1),\n",
       " (42, 1),\n",
       " (62, 1),\n",
       " (41, 1),\n",
       " (52, 1),\n",
       " (39, 1),\n",
       " (119, 1),\n",
       " (58, 1)]"
      ]
     },
     "execution_count": 39,
     "metadata": {},
     "output_type": "execute_result"
    }
   ],
   "source": [
    "term_count.most_common()"
   ]
  },
  {
   "cell_type": "code",
   "execution_count": null,
   "metadata": {},
   "outputs": [],
   "source": []
  }
 ],
 "metadata": {
  "kernelspec": {
   "display_name": "Python 3.9.5 ('venv': venv)",
   "language": "python",
   "name": "python3"
  },
  "language_info": {
   "codemirror_mode": {
    "name": "ipython",
    "version": 3
   },
   "file_extension": ".py",
   "mimetype": "text/x-python",
   "name": "python",
   "nbconvert_exporter": "python",
   "pygments_lexer": "ipython3",
   "version": "3.9.5"
  },
  "orig_nbformat": 4,
  "vscode": {
   "interpreter": {
    "hash": "f54039f8337ab0407821cc3dadb88d22282f3f39e7c8ddf57cc4b1d61d34619c"
   }
  }
 },
 "nbformat": 4,
 "nbformat_minor": 2
}
